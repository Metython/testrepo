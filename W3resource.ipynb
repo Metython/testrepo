{
 "cells": [
  {
   "cell_type": "markdown",
   "id": "430fb6e1",
   "metadata": {},
   "source": [
    "1. Write a Python program to print the following string in a specific format (see the output).\n",
    "Twinkle, twinkle, little star,\n"
   ]
  },
  {
   "cell_type": "code",
   "execution_count": 13,
   "id": "c3bcec44",
   "metadata": {},
   "outputs": [
    {
     "name": "stdout",
     "output_type": "stream",
     "text": [
      "Twinkle, twinkle, little star,\n"
     ]
    }
   ],
   "source": [
    "print(\"Twinkle, twinkle, little star,\")"
   ]
  },
  {
   "cell_type": "markdown",
   "id": "a3c6268b",
   "metadata": {},
   "source": [
    "2. Write a Python program to get the Python version you are using."
   ]
  },
  {
   "cell_type": "code",
   "execution_count": 2,
   "id": "145f14a1",
   "metadata": {},
   "outputs": [
    {
     "name": "stdout",
     "output_type": "stream",
     "text": [
      "Python version\n",
      "3.9.12 (main, Apr  5 2022, 01:53:17) \n",
      "[Clang 12.0.0 ]\n",
      "Version info.\n",
      "sys.version_info(major=3, minor=9, micro=12, releaselevel='final', serial=0)\n"
     ]
    }
   ],
   "source": [
    "import sys\n",
    "print(\"Python version\")\n",
    "print (sys.version)\n",
    "print(\"Version info.\")\n",
    "print (sys.version_info)"
   ]
  },
  {
   "cell_type": "markdown",
   "id": "af4c75d7",
   "metadata": {},
   "source": [
    "3. Write a Python program to display the current date and time.\n",
    "Sample Output :\n",
    "Current date and time :\n",
    "2014-07-05 14:34:14"
   ]
  },
  {
   "cell_type": "code",
   "execution_count": 3,
   "id": "1db4159f",
   "metadata": {},
   "outputs": [
    {
     "name": "stdout",
     "output_type": "stream",
     "text": [
      "Current date and time : \n",
      "22-06-28 14:54:57\n"
     ]
    }
   ],
   "source": [
    "import datetime\n",
    "now = datetime.datetime.now()\n",
    "print(\"Current date and time : \")\n",
    "print(now.strftime(\"%y-%m-%d %H:%M:%S\"))"
   ]
  },
  {
   "cell_type": "markdown",
   "id": "82e1b6fe",
   "metadata": {},
   "source": [
    "4. Write a Python program which accepts the radius of a circle from the user and compute the area."
   ]
  },
  {
   "cell_type": "code",
   "execution_count": 4,
   "id": "9d084132",
   "metadata": {},
   "outputs": [
    {
     "name": "stdout",
     "output_type": "stream",
     "text": [
      "area :  113.09733552923255\n"
     ]
    }
   ],
   "source": [
    "from math import pi\n",
    "r = float(input(\"input radius : \"))\n",
    "area = pi * (r**2)\n",
    "print(\"area : \", area)\n"
   ]
  },
  {
   "cell_type": "markdown",
   "id": "0abd5ca5",
   "metadata": {},
   "source": [
    "5. Write a Python program which accepts the user's first and last name and print them in reverse order with a space between them."
   ]
  },
  {
   "cell_type": "code",
   "execution_count": 12,
   "id": "0a6cf2dd",
   "metadata": {},
   "outputs": [
    {
     "name": "stdout",
     "output_type": "stream",
     "text": [
      "Input first name : metythorn \n",
      "Input last name : penn\n",
      "full name :  penn metythorn \n"
     ]
    }
   ],
   "source": [
    "first_name = str(input(\"Input first name : \"))\n",
    "last_name = str(input(\"Input last name : \"))\n",
    "full_name = last_name + \" \" + first_name \n",
    "print(\"full name : \", full_name)"
   ]
  },
  {
   "cell_type": "markdown",
   "id": "26f1fbb9",
   "metadata": {},
   "source": [
    "6. Write a Python program which accepts a sequence of comma-separated numbers from user and generate a list and a tuple with those numbers."
   ]
  },
  {
   "cell_type": "code",
   "execution_count": 23,
   "id": "0f2dbbe4",
   "metadata": {},
   "outputs": [
    {
     "name": "stdout",
     "output_type": "stream",
     "text": [
      "input some come seprated numbers : 1,2,3\n",
      "List : , ['1', '2', '3']\n",
      "Tuple :  ('1', '2', '3')\n"
     ]
    }
   ],
   "source": [
    "values = input(\"input some come seprated numbers : \")\n",
    "list = values.split(\",\")\n",
    "tuple = tuple(list)\n",
    "print(\"List : ,\", list)\n",
    "print(\"Tuple : \", tuple)"
   ]
  },
  {
   "cell_type": "markdown",
   "id": "a86b4b66",
   "metadata": {},
   "source": [
    "7. Write a Python program to accept a filename from the user and print the extension of that.\n",
    "   Sample filename : abc.java\n",
    "   Output : java"
   ]
  },
  {
   "cell_type": "code",
   "execution_count": 26,
   "id": "56112acf",
   "metadata": {},
   "outputs": [
    {
     "name": "stdout",
     "output_type": "stream",
     "text": [
      "Input the Filename: ddk.xyber\n",
      "The extension of the file is : xyber\n"
     ]
    }
   ],
   "source": [
    "filename = input(\"Input the Filename: \")\n",
    "f_extension = filename.split(\".\")\n",
    "print (\"The extension of the file is : \" + (f_extension[-1]))"
   ]
  },
  {
   "cell_type": "markdown",
   "id": "3bfe1647",
   "metadata": {},
   "source": [
    "8. Write a Python program to display the first and last colors from the following list. Go to the editor\n",
    "color_list = [\"Red\",\"Green\",\"White\" ,\"Black\"]"
   ]
  },
  {
   "cell_type": "code",
   "execution_count": 33,
   "id": "5b7e44a6",
   "metadata": {},
   "outputs": [
    {
     "name": "stdout",
     "output_type": "stream",
     "text": [
      "Red Black\n"
     ]
    }
   ],
   "source": [
    "color_list = [\"Red\",\"Green\",\"White\" ,\"Black\"]\n",
    "x = color_list[0] + \" \" + color_list[-1]\n",
    "print(x)\n",
    "\n",
    "\n",
    "# color_list = [\"Red\",\"Green\",\"White\" ,\"Black\"]\n",
    "# print( \"%s %s\"%(color_list[0],color_list[-1]))\n"
   ]
  },
  {
   "cell_type": "markdown",
   "id": "c44e235e",
   "metadata": {},
   "source": [
    "9. Write a Python program to display the examination schedule. \n",
    "exam_st_date = (11, 12, 2014)\n",
    "Sample Output : The examination will start from : 11 / 12 / 2014"
   ]
  },
  {
   "cell_type": "code",
   "execution_count": 34,
   "id": "a4d1a598",
   "metadata": {},
   "outputs": [
    {
     "name": "stdout",
     "output_type": "stream",
     "text": [
      "The examination will start from : 11 / 12 / 2014\n"
     ]
    }
   ],
   "source": [
    "exam_st_date = (11,12,2014)\n",
    "print( \"The examination will start from : %i / %i / %i\"%exam_st_date)\n"
   ]
  },
  {
   "cell_type": "markdown",
   "id": "ea3aab15",
   "metadata": {},
   "source": [
    "10. Write a Python program that accepts an integer (n) and computes the value of n+nn+nnn."
   ]
  },
  {
   "cell_type": "code",
   "execution_count": null,
   "id": "33805622",
   "metadata": {},
   "outputs": [],
   "source": [
    "#name = \"Geek\"\n",
    "#print(\"Hey, %s!\" % name)\n",
    "# Output : Hey, Geek! \n",
    "\n",
    "a = int(input(\"Input an integer : \"))\n",
    "n1 = int( \"%s\" % a )\n",
    "n2 = int( \"%s%s\" % (a,a) )\n",
    "n3 = int( \"%s%s%s\" % (a,a,a) )\n",
    "print (n1+n2+n3)\n"
   ]
  },
  {
   "cell_type": "markdown",
   "id": "32f69138",
   "metadata": {},
   "source": [
    "12. Write a Python program to print the calendar of a given month and year.\n",
    "Note : Use 'calendar' module."
   ]
  },
  {
   "cell_type": "code",
   "execution_count": 4,
   "id": "bba0d4d4",
   "metadata": {},
   "outputs": [
    {
     "name": "stdout",
     "output_type": "stream",
     "text": [
      "Input year : 2022\n",
      "Input month : 6\n",
      "     June 2022\n",
      "Mo Tu We Th Fr Sa Su\n",
      "       1  2  3  4  5\n",
      " 6  7  8  9 10 11 12\n",
      "13 14 15 16 17 18 19\n",
      "20 21 22 23 24 25 26\n",
      "27 28 29 30\n",
      "\n"
     ]
    }
   ],
   "source": [
    "import calendar \n",
    "y = int(input ( \"Input year : \" ))\n",
    "m = int(input ( \"Input month : \" ))\n",
    "print( calendar.month ( y,m ) )"
   ]
  },
  {
   "cell_type": "code",
   "execution_count": 4,
   "id": "a671b43a",
   "metadata": {},
   "outputs": [
    {
     "name": "stdout",
     "output_type": "stream",
     "text": [
      "3\n"
     ]
    }
   ],
   "source": [
    "14. Write a Python program to calculate number of days between two dates.\n",
    "Sample dates : (2014, 7, 2), (2014, 7, 11)\n",
    "Expected output : 9 days"
   ]
  },
  {
   "cell_type": "code",
   "execution_count": 11,
   "id": "67a2cbbb",
   "metadata": {},
   "outputs": [
    {
     "name": "stdout",
     "output_type": "stream",
     "text": [
      "8550\n"
     ]
    }
   ],
   "source": [
    "from datetime import date\n",
    "l_date = date(2022, 6, 28)\n",
    "f_date = date(1999, 1, 30)\n",
    "delta = l_date - f_date\n",
    "print(delta.days)\n"
   ]
  },
  {
   "cell_type": "markdown",
   "id": "29758216",
   "metadata": {},
   "source": [
    "15. Write a Python program to get the volume of a sphere with radius 6."
   ]
  },
  {
   "cell_type": "code",
   "execution_count": 15,
   "id": "6c279873",
   "metadata": {},
   "outputs": [
    {
     "name": "stdout",
     "output_type": "stream",
     "text": [
      "904.7786842338603\n"
     ]
    }
   ],
   "source": [
    "from math import pi\n",
    "\n",
    "radius = float(input(\"Input ur radius : \") ) \n",
    "volume = float( (4/3)* pi * (radius ** 3) )\n",
    "\n",
    "print(volume)"
   ]
  },
  {
   "cell_type": "code",
   "execution_count": null,
   "id": "36753e59",
   "metadata": {},
   "outputs": [],
   "source": []
  },
  {
   "cell_type": "markdown",
   "id": "a7f42a9a",
   "metadata": {},
   "source": [
    "16. Write a Python program to get the difference between a given number and 17, if the number is greater than 17 return double the absolute difference."
   ]
  },
  {
   "cell_type": "code",
   "execution_count": 24,
   "id": "22de1d09",
   "metadata": {},
   "outputs": [
    {
     "name": "stdout",
     "output_type": "stream",
     "text": [
      "10\n"
     ]
    }
   ],
   "source": [
    "'''  \n",
    "x = float ( input(\"input the number : \") )\n",
    "\n",
    "if x > 17 : \n",
    "    semi_result  = x - 17 \n",
    "    print( 2 * semi_result )\n",
    "else : \n",
    "    semi_result = abs( x - 17 )\n",
    "    print(semi_result)\n",
    "\n",
    "'''\n",
    "\n",
    "def difference(n):\n",
    "    if n <= 17: \n",
    "        return 17 - n \n",
    "    else :\n",
    "        return (n - 17)*2\n",
    "print(difference(22))"
   ]
  },
  {
   "cell_type": "markdown",
   "id": "34a9e005",
   "metadata": {},
   "source": [
    "18. Write a Python program to calculate the sum of three given numbers, if the values are equal then return three times of their sum."
   ]
  },
  {
   "cell_type": "code",
   "execution_count": 1,
   "id": "0d6e00f7",
   "metadata": {},
   "outputs": [
    {
     "data": {
      "text/plain": [
       "27"
      ]
     },
     "execution_count": 1,
     "metadata": {},
     "output_type": "execute_result"
    }
   ],
   "source": [
    "def values (x,y,z): \n",
    "    if x == y and x == z : \n",
    "        return ( x + y + z ) * 3 \n",
    "    else : \n",
    "        return ( x + y + z )\n",
    "\n",
    "values ( 1,2,3)\n",
    "values ( 3,3,2)\n",
    "values ( 3,3,3)"
   ]
  },
  {
   "cell_type": "markdown",
   "id": "23ded926",
   "metadata": {},
   "source": [
    "Write a Python program to determine if a Python shell is executing in 32bit or 64bit mode on OS."
   ]
  },
  {
   "cell_type": "code",
   "execution_count": 8,
   "id": "8232d7f4",
   "metadata": {},
   "outputs": [
    {
     "name": "stdout",
     "output_type": "stream",
     "text": [
      "64\n"
     ]
    }
   ],
   "source": [
    "# For 32 bit it will return 32 and for 64 bit it will return 64\n",
    "import struct\n",
    "print(struct.calcsize(\"P\") * 8)\n"
   ]
  },
  {
   "cell_type": "markdown",
   "id": "81c33089",
   "metadata": {},
   "source": [
    "43. Write a Python program to get OS name, platform and release information."
   ]
  },
  {
   "cell_type": "code",
   "execution_count": 3,
   "id": "ab793b09",
   "metadata": {},
   "outputs": [
    {
     "name": "stdout",
     "output_type": "stream",
     "text": [
      "Name of the operating system:  posix\n",
      "\n",
      "Name of the OS system: Darwin\n",
      "\n",
      "Version of the operating system:  21.5.0\n"
     ]
    }
   ],
   "source": [
    "import platform \n",
    "import os \n",
    "print(\"Name of the operating system: \", os.name)\n",
    "print(\"\\nName of the OS system:\", platform.system())\n",
    "print(\"\\nVersion of the operating system: \", platform.release())\n",
    "\n"
   ]
  },
  {
   "cell_type": "markdown",
   "id": "eb5678e7",
   "metadata": {},
   "source": [
    "44. Write a Python program to locate Python site-packages."
   ]
  },
  {
   "cell_type": "code",
   "execution_count": 7,
   "id": "0619478a",
   "metadata": {},
   "outputs": [
    {
     "name": "stdout",
     "output_type": "stream",
     "text": [
      "['/Users/metythorn/opt/anaconda3/lib/python3.9/site-packages']\n"
     ]
    }
   ],
   "source": [
    "import site;\n",
    "print(site.getsitepackages())"
   ]
  },
  {
   "cell_type": "markdown",
   "id": "f4e02108",
   "metadata": {},
   "source": []
  }
 ],
 "metadata": {
  "kernelspec": {
   "display_name": "Python 3 (ipykernel)",
   "language": "python",
   "name": "python3"
  },
  "language_info": {
   "codemirror_mode": {
    "name": "ipython",
    "version": 3
   },
   "file_extension": ".py",
   "mimetype": "text/x-python",
   "name": "python",
   "nbconvert_exporter": "python",
   "pygments_lexer": "ipython3",
   "version": "3.9.12"
  },
  "vscode": {
   "interpreter": {
    "hash": "125be8275fc933d4e7d6980eb97b09ee6e47fadb9105c631081fed37191d7e6c"
   }
  }
 },
 "nbformat": 4,
 "nbformat_minor": 5
}
